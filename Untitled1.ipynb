{
 "cells": [
  {
   "cell_type": "code",
   "execution_count": 1,
   "metadata": {},
   "outputs": [],
   "source": [
    "from torch.utils.data import DataLoader\n",
    "from torchvision.datasets import ImageFolder\n",
    "from model import ExpressionClassifier\n",
    "import torch\n",
    "from torchvision import transforms"
   ]
  },
  {
   "cell_type": "code",
   "execution_count": 2,
   "metadata": {},
   "outputs": [],
   "source": [
    "train_transforms = transforms.Compose([\n",
    "    transforms.RandomRotation(30),\n",
    "    transforms.RandomResizedCrop(224),\n",
    "    transforms.RandomHorizontalFlip(),\n",
    "    transforms.ToTensor(),\n",
    "    transforms.Normalize(mean=[0.485, 0.456, 0.406], \n",
    "                         std=[0.229, 0.224, 0.225])\n",
    "])\n",
    "\n",
    "valid_transforms = transforms.Compose([\n",
    "    transforms.CenterCrop(224),\n",
    "    transforms.ToTensor(),\n",
    "    transforms.Normalize(mean=[0.485, 0.456, 0.406], \n",
    "                         std=[0.229, 0.224, 0.225])\n",
    "])"
   ]
  },
  {
   "cell_type": "code",
   "execution_count": 3,
   "metadata": {},
   "outputs": [],
   "source": [
    "train_set = ImageFolder(root='/home/khairulimam/datasets/expressions/IMFDB/train/', transform=train_transforms)\n",
    "valid_set = ImageFolder(root='/home/khairulimam/datasets/expressions/IMFDB/valid/', transform=valid_transforms)\n",
    "\n",
    "train_loader = DataLoader(train_set, batch_size=32, shuffle=True)\n",
    "valid_loader = DataLoader(valid_set, batch_size=32, shuffle=True)"
   ]
  },
  {
   "cell_type": "code",
   "execution_count": 4,
   "metadata": {},
   "outputs": [],
   "source": [
    "device = torch.device('cuda' if torch.cuda.is_available() else 'cpu')\n",
    "model = ExpressionClassifier(num_classes=7)\n",
    "optimizer = torch.optim.SGD(model.parameters(), lr=0.001, momentum=0.9)\n",
    "model.to(device)\n",
    "model = torch.nn.DataParallel(model)\n",
    "criterion = torch.nn.CrossEntropyLoss()"
   ]
  },
  {
   "cell_type": "code",
   "execution_count": 34,
   "metadata": {},
   "outputs": [],
   "source": [
    "def train(model, imgs, lbls):\n",
    "    model.train()\n",
    "    imgs = imgs.to(device)\n",
    "    lbls = lbls.to(device)\n",
    "    \n",
    "    logits = model(imgs)\n",
    "    loss = criterion(logits, lbls)\n",
    "    \n",
    "    optimizer.zero_grad()\n",
    "    loss.backward()\n",
    "    optimizer.step()\n",
    "    return loss.item()\n",
    "\n",
    "def validate(model, imgs, lbls):\n",
    "    model.eval()\n",
    "    with torch.no_grad():\n",
    "        imgs = imgs.to(device)\n",
    "        lbls = lbls.to(device)\n",
    "        \n",
    "        logits = model(imgs)\n",
    "        \n",
    "        _, predictions = torch.max(logits, 1)\n",
    "        \n",
    "        trues = predictions == lbls\n",
    "        return trues.sum().item()\n",
    "        "
   ]
  },
  {
   "cell_type": "code",
   "execution_count": null,
   "metadata": {},
   "outputs": [
    {
     "name": "stdout",
     "output_type": "stream",
     "text": [
      "0 train loss 1.639694983236621\n",
      "0 valid accuracies 10.109289617486338\n",
      "1 train loss 1.6176352529563955\n",
      "1 valid accuracies 10.628415300546449\n",
      "2 train loss 1.595262550862036\n",
      "2 valid accuracies 10.972677595628415\n",
      "3 train loss 1.579426805549693\n",
      "3 valid accuracies 10.830601092896174\n"
     ]
    }
   ],
   "source": [
    "for epoch in range(10):\n",
    "    lossses = list()\n",
    "    accuracies = list()\n",
    "    for idx, (imgs, lbls) in enumerate(train_loader):\n",
    "        loss = train(model, imgs, lbls)\n",
    "        lossses.append(loss)\n",
    "    print(epoch, 'train loss', sum(lossses)/len(lossses))\n",
    "    for idx, (imgs, lbls) in enumerate(valid_loader):\n",
    "        accuracy = validate(model, imgs, lbls)\n",
    "        accuracies.append(accuracy)\n",
    "    print(epoch, 'valid accuracies', sum(accuracies)/len(accuracies))"
   ]
  }
 ],
 "metadata": {
  "kernelspec": {
   "display_name": "Python 3",
   "language": "python",
   "name": "python3"
  },
  "language_info": {
   "codemirror_mode": {
    "name": "ipython",
    "version": 3
   },
   "file_extension": ".py",
   "mimetype": "text/x-python",
   "name": "python",
   "nbconvert_exporter": "python",
   "pygments_lexer": "ipython3",
   "version": "3.7.3"
  }
 },
 "nbformat": 4,
 "nbformat_minor": 2
}
