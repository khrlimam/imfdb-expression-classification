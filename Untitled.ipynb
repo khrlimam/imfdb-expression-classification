{
 "cells": [
  {
   "cell_type": "code",
   "execution_count": 1,
   "metadata": {},
   "outputs": [],
   "source": [
    "from pathlib import Path\n",
    "import pandas as pd\n",
    "from random import shuffle\n",
    "import os\n",
    "import shutil\n",
    "import re"
   ]
  },
  {
   "cell_type": "code",
   "execution_count": 2,
   "metadata": {},
   "outputs": [],
   "source": [
    "txts = list(Path('/home/khairulimam/datasets/IMFDB_final/').glob(\"*/*/*.txt\"))"
   ]
  },
  {
   "cell_type": "code",
   "execution_count": 12,
   "metadata": {},
   "outputs": [],
   "source": [
    "exprs = ['ANGER', 'DISGUST', 'FEAR', 'HAPPINESS', 'NEUTRAL', 'SADNESS', 'SURPRISE']"
   ]
  },
  {
   "cell_type": "code",
   "execution_count": 13,
   "metadata": {},
   "outputs": [],
   "source": [
    "def get_random_index(length=10, split_ratio=0.3):\n",
    "    x = list(range(length))\n",
    "    shuffle(x)\n",
    "    ratio = int(length*split_ratio)\n",
    "    return x[0:ratio], x[ratio:]"
   ]
  },
  {
   "cell_type": "code",
   "execution_count": 14,
   "metadata": {},
   "outputs": [],
   "source": [
    "def split_data(type_, indexes, df, path):\n",
    "    for index in indexes:\n",
    "        row = df.iloc[index]\n",
    "        if len(row) < 5: continue\n",
    "        try:\n",
    "            expression = row[11]\n",
    "            assert expression in exprs\n",
    "        except AssertionError as e:\n",
    "            expression = row[10]\n",
    "        expressions.append((expression, idx))\n",
    "        jpgstr = list(filter(lambda i: 'jpg' in str(i), list(row)))\n",
    "        if len(jpgstr) == 0: continue\n",
    "        image_number = list(filter(lambda i: bool(re.match(r'[a-zA-Z]', i)), jpgstr))[0].split('_')[-1]\n",
    "        image_name = list(filter(lambda i: i.split('_')[-1] == image_number, os.listdir(os.path.join(*path.parts[:-1], 'images'))))\n",
    "        if len(image_name) == 0: continue\n",
    "        folder = os.path.join(expression, *path.parts[5:7])\n",
    "        dst = os.path.join('/home/khairulimam/datasets/expressions/IMFDB', type_, folder)\n",
    "        img_path = os.path.join(*path.parts[:-1], 'images', image_name[0])\n",
    "        os.makedirs(dst, exist_ok=True)\n",
    "        shutil.copy(img_path, dst)"
   ]
  },
  {
   "cell_type": "code",
   "execution_count": 15,
   "metadata": {},
   "outputs": [],
   "source": [
    "valid_data = list()\n",
    "for idx, pa in enumerate(txts):\n",
    "# pa = choice(txts)\n",
    "    p = open(pa, 'r')\n",
    "    lines = p.readlines()\n",
    "    if len(lines) > 1:\n",
    "        valid_data.append(idx)\n",
    "    else: continue"
   ]
  },
  {
   "cell_type": "code",
   "execution_count": 16,
   "metadata": {},
   "outputs": [
    {
     "name": "stderr",
     "output_type": "stream",
     "text": [
      "b'Skipping line 120: expected 16 fields, saw 17\\nSkipping line 121: expected 16 fields, saw 17\\nSkipping line 122: expected 16 fields, saw 17\\nSkipping line 123: expected 16 fields, saw 17\\nSkipping line 125: expected 16 fields, saw 17\\nSkipping line 126: expected 16 fields, saw 17\\nSkipping line 127: expected 16 fields, saw 17\\nSkipping line 128: expected 16 fields, saw 17\\nSkipping line 129: expected 16 fields, saw 17\\nSkipping line 130: expected 16 fields, saw 17\\nSkipping line 131: expected 16 fields, saw 17\\nSkipping line 132: expected 16 fields, saw 17\\nSkipping line 133: expected 16 fields, saw 17\\nSkipping line 134: expected 16 fields, saw 17\\nSkipping line 135: expected 16 fields, saw 17\\nSkipping line 136: expected 16 fields, saw 17\\nSkipping line 137: expected 16 fields, saw 17\\nSkipping line 138: expected 16 fields, saw 17\\nSkipping line 139: expected 16 fields, saw 17\\nSkipping line 140: expected 16 fields, saw 17\\nSkipping line 142: expected 16 fields, saw 17\\nSkipping line 143: expected 16 fields, saw 17\\nSkipping line 144: expected 16 fields, saw 17\\nSkipping line 146: expected 16 fields, saw 17\\n'\n"
     ]
    }
   ],
   "source": [
    "expressions = list()\n",
    "for idx in valid_data:\n",
    "    path = txts[idx]\n",
    "    df = pd.read_csv(path, sep='\\t', error_bad_lines=False)\n",
    "    df = pd.read_csv(path, sep='\\t', names=range(len(df.iloc[0])), error_bad_lines=False)\n",
    "    rows = len(df)\n",
    "    valid, train = get_random_index(rows, .2)\n",
    "    split_data('valid', valid, df, path)\n",
    "    split_data('train', train, df, path)"
   ]
  },
  {
   "cell_type": "code",
   "execution_count": 18,
   "metadata": {},
   "outputs": [
    {
     "data": {
      "text/plain": [
       "(34512, 5839, 23940)"
      ]
     },
     "execution_count": 18,
     "metadata": {},
     "output_type": "execute_result"
    }
   ],
   "source": [
    "len(list(Path('/home/khairulimam/datasets/IMFDB_final/').glob(\"*/*/*/*.jpg\"))),len(list(Path('/home/khairulimam/datasets/expressions/IMFDB/valid/').glob(\"*/*/*/*.jpg\"))), len(list(Path('/home/khairulimam/datasets/expressions/IMFDB/train/').glob(\"*/*/*/*.jpg\")))"
   ]
  }
 ],
 "metadata": {
  "kernelspec": {
   "display_name": "Python 3",
   "language": "python",
   "name": "python3"
  },
  "language_info": {
   "codemirror_mode": {
    "name": "ipython",
    "version": 3
   },
   "file_extension": ".py",
   "mimetype": "text/x-python",
   "name": "python",
   "nbconvert_exporter": "python",
   "pygments_lexer": "ipython3",
   "version": "3.7.3"
  }
 },
 "nbformat": 4,
 "nbformat_minor": 2
}
